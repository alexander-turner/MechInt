{
 "cells": [
  {
   "cell_type": "code",
   "execution_count": 3,
   "metadata": {},
   "outputs": [],
   "source": [
    "import torch as t \n",
    "from einops import *\n",
    "from pathlib import Path"
   ]
  },
  {
   "cell_type": "code",
   "execution_count": 6,
   "metadata": {},
   "outputs": [],
   "source": [
    "DIR = Path(\"models\", \"maze_I\")\n",
    "MODEL_NAME = \"model_rand_region_7.pth\"\n",
    "model = t.load(Path(DIR, MODEL_NAME), map_location=t.device('cpu'))"
   ]
  }
 ],
 "metadata": {
  "kernelspec": {
   "display_name": "CBAI",
   "language": "python",
   "name": "python3"
  },
  "language_info": {
   "codemirror_mode": {
    "name": "ipython",
    "version": 3
   },
   "file_extension": ".py",
   "mimetype": "text/x-python",
   "name": "python",
   "nbconvert_exporter": "python",
   "pygments_lexer": "ipython3",
   "version": "3.10.8"
  },
  "orig_nbformat": 4,
  "vscode": {
   "interpreter": {
    "hash": "0cbf02c8cc4594af93d5350b8d2ccca92175042fc7b9c2bc6f00e2a46dc614fc"
   }
  }
 },
 "nbformat": 4,
 "nbformat_minor": 2
}
