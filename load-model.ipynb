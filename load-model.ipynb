{
 "cells": [
  {
   "cell_type": "code",
   "execution_count": 1,
   "metadata": {},
   "outputs": [],
   "source": [
    "import torch as t \n",
    "from einops import *"
   ]
  },
  {
   "cell_type": "code",
   "execution_count": null,
   "metadata": {},
   "outputs": [],
   "source": [
    "DIR = path(\"models\", \"maze_I\")\n",
    "MODEL_NAME = \"model_rand_region_7.pth\"\n",
    "model = t.load(path(DIR, MODEL_NAME))"
   ]
  }
 ],
 "metadata": {
  "kernelspec": {
   "display_name": "CBAI",
   "language": "python",
   "name": "python3"
  },
  "language_info": {
   "codemirror_mode": {
    "name": "ipython",
    "version": 3
   },
   "file_extension": ".py",
   "mimetype": "text/x-python",
   "name": "python",
   "nbconvert_exporter": "python",
   "pygments_lexer": "ipython3",
   "version": "3.10.8 (main, Nov 24 2022, 14:13:03) [GCC 11.2.0]"
  },
  "orig_nbformat": 4,
  "vscode": {
   "interpreter": {
    "hash": "0cbf02c8cc4594af93d5350b8d2ccca92175042fc7b9c2bc6f00e2a46dc614fc"
   }
  }
 },
 "nbformat": 4,
 "nbformat_minor": 2
}
